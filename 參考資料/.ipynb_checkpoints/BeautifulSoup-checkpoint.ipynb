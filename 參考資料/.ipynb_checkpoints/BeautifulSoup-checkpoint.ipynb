{
 "cells": [
  {
   "cell_type": "markdown",
   "id": "792ed314",
   "metadata": {},
   "source": [
    "# 網路爬蟲實戰經驗分享 _ BeautifulSoup參考資料"
   ]
  },
  {
   "cell_type": "markdown",
   "id": "dfb07955",
   "metadata": {},
   "source": [
    "安裝 BeautifulSoup"
   ]
  },
  {
   "cell_type": "code",
   "execution_count": null,
   "id": "38ac4a7c",
   "metadata": {},
   "outputs": [],
   "source": [
    "pip install bs4"
   ]
  },
  {
   "cell_type": "markdown",
   "id": "95ad8686",
   "metadata": {},
   "source": [
    "導入 BeautifulSoup 的函式庫"
   ]
  },
  {
   "cell_type": "code",
   "execution_count": null,
   "id": "abb03ba7",
   "metadata": {},
   "outputs": [],
   "source": [
    "from bs4 import BeautifulSoup"
   ]
  },
  {
   "cell_type": "markdown",
   "id": "ec2e8d56",
   "metadata": {},
   "source": [
    "預設一段HTML"
   ]
  },
  {
   "cell_type": "code",
   "execution_count": null,
   "id": "cbf7455c",
   "metadata": {},
   "outputs": [],
   "source": [
    "MyHTML =\n",
    "\"\"\"\n",
    "<html>\n",
    "<head>\n",
    "<title>我是預設的HTML</title>\n",
    "</head>\n",
    "\n",
    "<body>\n",
    "<h1>標題h1</h1>\n",
    "<p>我是p1</p>\n",
    "<a id=\"a1\" href=\"a1href\">a1的文字</a>\n",
    "<a id=\"a2\" href=\"a2href\">a2的文字</a>\n",
    "<div class=\"DivClass\">div的文字</div>\n",
    "<p>我是p2</p>\n",
    "</body>\n",
    "</html>\n",
    "\"\"\""
   ]
  },
  {
   "cell_type": "markdown",
   "id": "3ed3eb7e",
   "metadata": {},
   "source": [
    "將預設的 HTML 解析放到 soup"
   ]
  },
  {
   "cell_type": "code",
   "execution_count": null,
   "id": "40cd73bb",
   "metadata": {},
   "outputs": [],
   "source": [
    "soup = BeautifulSoup(data,'html.parser')"
   ]
  },
  {
   "cell_type": "markdown",
   "id": "f8ea2a10",
   "metadata": {},
   "source": [
    "輸出排版過的 HTML"
   ]
  },
  {
   "cell_type": "code",
   "execution_count": null,
   "id": "aab8d461",
   "metadata": {},
   "outputs": [],
   "source": [
    "print(soup.prettify())"
   ]
  },
  {
   "cell_type": "markdown",
   "id": "5e16fda4",
   "metadata": {},
   "source": [
    "輸出 HTML 的 title"
   ]
  },
  {
   "cell_type": "code",
   "execution_count": null,
   "id": "a186f4d4",
   "metadata": {},
   "outputs": [],
   "source": [
    "print(\"title: \" , soup.title)\n",
    "print(\"title text: \" , soup.title.text)\n",
    "print(\"title string: \" , soup.title.string)"
   ]
  },
  {
   "cell_type": "markdown",
   "id": "a53a5148",
   "metadata": {},
   "source": [
    "尋找元素 p"
   ]
  },
  {
   "cell_type": "code",
   "execution_count": null,
   "id": "3b763ce2",
   "metadata": {},
   "outputs": [],
   "source": [
    "p = soup.find_all(\"p\")\n",
    "print(p)\n",
    "print(p.text)"
   ]
  },
  {
   "cell_type": "markdown",
   "id": "6196ecca",
   "metadata": {},
   "source": [
    "只獲取一個元素 p"
   ]
  },
  {
   "cell_type": "code",
   "execution_count": null,
   "id": "18fac195",
   "metadata": {},
   "outputs": [],
   "source": [
    "p = soup.find(\"p\")\n",
    "print(\"find p: \" , p)\n",
    "\n",
    "p_limit = soup.find_all(\"p\" , limit=1)\n",
    "print(\"find all limit: \" , p_limit)"
   ]
  },
  {
   "cell_type": "markdown",
   "id": "0072106f",
   "metadata": {},
   "source": [
    "獲取超連結"
   ]
  },
  {
   "cell_type": "code",
   "execution_count": null,
   "id": "d7932d44",
   "metadata": {},
   "outputs": [],
   "source": [
    "a = soup.find_all(\"a\")\n",
    "for i in a:\n",
    "    print(i.text)\n",
    "    print(i.get('href'))"
   ]
  },
  {
   "cell_type": "markdown",
   "id": "b54a505d",
   "metadata": {},
   "source": [
    "同時找兩種元素"
   ]
  },
  {
   "cell_type": "code",
   "execution_count": null,
   "id": "5305bd9d",
   "metadata": {},
   "outputs": [],
   "source": [
    "elements = soup.find_all([\"div\", \"p\"])\n",
    "print(elements)"
   ]
  }
 ],
 "metadata": {
  "kernelspec": {
   "display_name": "Python 3 (ipykernel)",
   "language": "python",
   "name": "python3"
  },
  "language_info": {
   "codemirror_mode": {
    "name": "ipython",
    "version": 3
   },
   "file_extension": ".py",
   "mimetype": "text/x-python",
   "name": "python",
   "nbconvert_exporter": "python",
   "pygments_lexer": "ipython3",
   "version": "3.9.7"
  }
 },
 "nbformat": 4,
 "nbformat_minor": 5
}
