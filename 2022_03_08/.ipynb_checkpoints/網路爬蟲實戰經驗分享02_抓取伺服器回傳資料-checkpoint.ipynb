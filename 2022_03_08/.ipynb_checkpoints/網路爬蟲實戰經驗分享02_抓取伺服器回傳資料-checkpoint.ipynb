{
 "cells": [
  {
   "attachments": {},
   "cell_type": "markdown",
   "id": "ee892f51",
   "metadata": {},
   "source": [
    "# 網路爬蟲實戰經驗分享02_抓取伺服器回傳資料"
   ]
  },
  {
   "cell_type": "markdown",
   "id": "451d6bb0",
   "metadata": {},
   "source": [
    "# 練習題：  "
   ]
  },
  {
   "cell_type": "markdown",
   "id": "73d1d603",
   "metadata": {},
   "source": [
    "### 1.讓程式自動抓取KingNet醫療諮詢的URL"
   ]
  },
  {
   "cell_type": "code",
   "execution_count": null,
   "id": "84035801",
   "metadata": {
    "scrolled": false
   },
   "outputs": [],
   "source": [
    "import requests , json\n",
    "\n",
    "sectionId = input(\"輸入想要搜尋的科別編號: \")\n",
    "dataIndex = input(\"想要搜尋的頁數\")\n",
    "\n",
    "url = f\"{sectionId}{dataIndex}\"#放入網頁連結URL，可以把sectionId跟dataIndex直接定義好\n",
    "\n",
    "headers = {\"User-Agent\":\"\"} #填入自己的瀏覽器資訊\n",
    "response = requests.get(url , headers=headers )\n",
    "\n",
    "result = response.text\n",
    "result = json.loads(result) #將result變成json格式\n",
    "\n",
    "for i in result[\"inquiryList\"]:\n",
    "    print() #輸出諮詢頁面的URL"
   ]
  }
 ],
 "metadata": {
  "kernelspec": {
   "display_name": "Python 3 (ipykernel)",
   "language": "python",
   "name": "python3"
  },
  "language_info": {
   "codemirror_mode": {
    "name": "ipython",
    "version": 3
   },
   "file_extension": ".py",
   "mimetype": "text/x-python",
   "name": "python",
   "nbconvert_exporter": "python",
   "pygments_lexer": "ipython3",
   "version": "3.9.7"
  }
 },
 "nbformat": 4,
 "nbformat_minor": 5
}
