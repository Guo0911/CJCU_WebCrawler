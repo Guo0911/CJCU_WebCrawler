{
 "cells": [
  {
   "cell_type": "markdown",
   "id": "ee892f51",
   "metadata": {},
   "source": [
    "# 網路爬蟲實戰經驗分享02_解答"
   ]
  },
  {
   "cell_type": "markdown",
   "id": "451d6bb0",
   "metadata": {},
   "source": [
    "# 練習題：  "
   ]
  },
  {
   "cell_type": "markdown",
   "id": "a64d4aaa",
   "metadata": {},
   "source": [
    "### 1.讓程式抓取Yahoo News的10篇新聞圖片"
   ]
  },
  {
   "cell_type": "code",
   "execution_count": null,
   "id": "331f0d76",
   "metadata": {},
   "outputs": [],
   "source": [
    "import urllib.request as req\n",
    "from bs4 import BeautifulSoup\n",
    "import requests\n",
    "\n",
    "url = \"https://tw.news.yahoo.com/archive\" #放入網頁連結URL\n",
    "headers = {\"User-Agent\":\"Mozilla/5.0 (Windows NT 10.0; Win64; x64) AppleWebKit/537.36 (KHTML, like Gecko) Chrome/96.0.4664.110 Safari/537.36 Edg/96.0.1054.57\"} #填入自己的瀏覽器資訊\n",
    "request = req.Request(url, headers= headers)\n",
    "\n",
    "with req.urlopen(request) as response:\n",
    "    data = response.read().decode('utf-8')\n",
    "    \n",
    "soup = BeautifulSoup(data,'html.parser')\n",
    "\n",
    "image = soup.find_all(\"img\", \"W(100%)\", limit=10) #抓取圖片元素\n",
    "\n",
    "number = 0 #檔名\n",
    "\n",
    "for img in image:\n",
    "    img = img.get(\"src\") #獲取圖片連結\n",
    "    \n",
    "    img = requests.get(img) #開啟圖片\n",
    "    \n",
    "    with open(\"IMG/image\" + str(number) + \".jpg\", \"wb\") as file: #開啟jpg檔\n",
    "        file.write(img.content) #寫入圖片\n",
    "        \n",
    "    number += 1"
   ]
  },
  {
   "cell_type": "markdown",
   "id": "73d1d603",
   "metadata": {},
   "source": [
    "### 1.讓程式自動抓取KingNet醫療諮詢的URL"
   ]
  },
  {
   "cell_type": "code",
   "execution_count": null,
   "id": "fed1df8c",
   "metadata": {},
   "outputs": [],
   "source": [
    "import requests , json\n",
    "\n",
    "sectionId = input(\"輸入想要搜尋的科別編號: \")\n",
    "dataIndex = input(\"想要搜尋的頁數: \")\n",
    "\n",
    "url = f\"https://www.kingnet.com.tw/ajax/selectInquiryList?sectionId={sectionId}&keyword=&inquiryStatus=Y&dataIndex={dataIndex}&dataCnt=10\"\n",
    "\n",
    "headers = {\"User-Agent\":\"Mozilla/5.0 (Windows NT 10.0; Win64; x64) AppleWebKit/537.36 (KHTML, like Gecko) Chrome/92.0.4515.159 Safari/537.36\"}\n",
    "response = requests.get(url , headers=headers )\n",
    "\n",
    "result = response.text\n",
    "result = json.loads(result)\n",
    "\n",
    "for i in result[\"inquiryList\"]:\n",
    "    print(f\"https://www.kingnet.com.tw/inquiry/single?inquiryId={str(i['inquiryId'])}&accessKey={str(i['accessKey'])}\")"
   ]
  }
 ],
 "metadata": {
  "kernelspec": {
   "display_name": "Python 3 (ipykernel)",
   "language": "python",
   "name": "python3"
  },
  "language_info": {
   "codemirror_mode": {
    "name": "ipython",
    "version": 3
   },
   "file_extension": ".py",
   "mimetype": "text/x-python",
   "name": "python",
   "nbconvert_exporter": "python",
   "pygments_lexer": "ipython3",
   "version": "3.9.7"
  }
 },
 "nbformat": 4,
 "nbformat_minor": 5
}
