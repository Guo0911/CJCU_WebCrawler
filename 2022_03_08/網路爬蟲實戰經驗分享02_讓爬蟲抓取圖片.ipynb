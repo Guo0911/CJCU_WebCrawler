{
 "cells": [
  {
   "cell_type": "markdown",
   "id": "ee892f51",
   "metadata": {},
   "source": [
    "# 網路爬蟲實戰經驗分享02_讓爬蟲抓取圖片"
   ]
  },
  {
   "cell_type": "code",
   "execution_count": null,
   "id": "84f6dd91",
   "metadata": {},
   "outputs": [],
   "source": [
    "pip install bs4"
   ]
  },
  {
   "cell_type": "code",
   "execution_count": null,
   "id": "604860aa",
   "metadata": {},
   "outputs": [],
   "source": [
    "import urllib.request as req\n",
    "from bs4 import BeautifulSoup\n",
    "import requests"
   ]
  },
  {
   "cell_type": "markdown",
   "id": "147ad664",
   "metadata": {},
   "source": [
    "# 程式碼：  "
   ]
  },
  {
   "cell_type": "code",
   "execution_count": null,
   "id": "7c918784",
   "metadata": {},
   "outputs": [],
   "source": [
    "search = input(\"輸入你要搜尋的物品: \")\n",
    "search = search.replace(\" \",\"-\")\n",
    "\n",
    "url = \"https://stocksnap.io/search/\" + search\n",
    "headers = {\"User-Agent\":\"Mozilla/5.0 (Windows NT 10.0; Win64; x64) AppleWebKit/537.36 (KHTML, like Gecko) Chrome/96.0.4664.110 Safari/537.36 Edg/96.0.1054.57\"}\n",
    "request = req.Request(url, headers= headers)\n",
    "\n",
    "with req.urlopen(request) as response:\n",
    "    data = response.read().decode('utf-8')\n",
    "    \n",
    "soup = BeautifulSoup(data,'html.parser')\n",
    "\n",
    "image = soup.find_all(\"img\", height=\"280\", limit=10)\n",
    "\n",
    "number = 0\n",
    "for img in image:\n",
    "    img = img.get(\"src\")\n",
    "    \n",
    "    if \"http\" not in img: #略過廣告\n",
    "        continue\n",
    "\n",
    "    img = requests.get(img)\n",
    "    \n",
    "    with open(\"IMG/image\" + str(number) + \".jpg\", \"wb\") as file:\n",
    "        file.write(img.content)\n",
    "        \n",
    "    number += 1"
   ]
  },
  {
   "cell_type": "markdown",
   "id": "451d6bb0",
   "metadata": {},
   "source": [
    "# 練習題：  "
   ]
  },
  {
   "cell_type": "markdown",
   "id": "73d1d603",
   "metadata": {},
   "source": [
    "### 1.讓程式抓取Yahoo News的10篇新聞圖片"
   ]
  },
  {
   "cell_type": "code",
   "execution_count": null,
   "id": "84035801",
   "metadata": {
    "scrolled": false
   },
   "outputs": [],
   "source": [
    "url = \"\" #放入網頁連結URL\n",
    "headers = {\"User-Agent\":\"\"} #填入自己的瀏覽器資訊\n",
    "request = req.Request(url, headers= headers)\n",
    "\n",
    "with req.urlopen(request) as response:\n",
    "    data = response.read().decode('utf-8')\n",
    "    \n",
    "soup = BeautifulSoup(data,'html.parser')\n",
    "\n",
    "image = soup.find_all(\"\", \"\", limit=10) #抓取圖片元素\n",
    "\n",
    "#此部分請自行增加程式碼"
   ]
  }
 ],
 "metadata": {
  "kernelspec": {
   "display_name": "Python 3 (ipykernel)",
   "language": "python",
   "name": "python3"
  },
  "language_info": {
   "codemirror_mode": {
    "name": "ipython",
    "version": 3
   },
   "file_extension": ".py",
   "mimetype": "text/x-python",
   "name": "python",
   "nbconvert_exporter": "python",
   "pygments_lexer": "ipython3",
   "version": "3.9.7"
  }
 },
 "nbformat": 4,
 "nbformat_minor": 5
}
