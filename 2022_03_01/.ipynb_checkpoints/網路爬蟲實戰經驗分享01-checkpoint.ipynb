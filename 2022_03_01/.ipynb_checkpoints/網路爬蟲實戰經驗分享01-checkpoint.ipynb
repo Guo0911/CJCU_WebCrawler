{
 "cells": [
  {
   "attachments": {},
   "cell_type": "markdown",
   "id": "ee892f51",
   "metadata": {},
   "source": [
    "# 網路爬蟲實戰經驗分享01"
   ]
  },
  {
   "cell_type": "code",
   "execution_count": null,
   "id": "84f6dd91",
   "metadata": {},
   "outputs": [],
   "source": [
    "pip install bs4"
   ]
  },
  {
   "cell_type": "code",
   "execution_count": null,
   "id": "98cfdc8d-2083-4ea5-b649-2ecc75b05211",
   "metadata": {
    "scrolled": true
   },
   "outputs": [],
   "source": [
    "import urllib.request as req\n",
    "from bs4 import BeautifulSoup"
   ]
  },
  {
   "cell_type": "markdown",
   "id": "147ad664",
   "metadata": {},
   "source": [
    "# 程式碼：  "
   ]
  },
  {
   "cell_type": "code",
   "execution_count": null,
   "id": "7c918784",
   "metadata": {},
   "outputs": [],
   "source": [
    "url = \"https://tw.news.yahoo.com/archive/\"\n",
    "headers = {\"User-Agent\":\"Mozilla/5.0 (Windows NT 10.0; Win64; x64) AppleWebKit/537.36 (KHTML, like Gecko) Chrome/96.0.4664.110 Safari/537.36 Edg/96.0.1054.57\"}\n",
    "request = req.Request(url, headers= headers)\n",
    "\n",
    "with req.urlopen(request) as response:\n",
    "    data = response.read().decode('utf-8')\n",
    "    \n",
    "soup = BeautifulSoup(data,'html.parser')\n",
    "\n",
    "titles = soup.find_all(\"a\",\"Fw(b) Fz(20px) Lh(23px) Fz(17px)--sm1024 Lh(19px)--sm1024 mega-item-header-link Td(n) C(#0078ff):h C(#000) LineClamp(2,46px) LineClamp(2,38px)--sm1024 not-isInStreamVideoEnabled\")\n",
    "\n",
    "for title in titles:\n",
    "    print(title.text)\n",
    "    print(url + title.get('href'))\n",
    "    print()"
   ]
  },
  {
   "cell_type": "markdown",
   "id": "451d6bb0",
   "metadata": {},
   "source": [
    "# 練習題：  "
   ]
  },
  {
   "cell_type": "markdown",
   "id": "73d1d603",
   "metadata": {},
   "source": [
    "### 1.讓程式自動抓取Yahoo News的5篇新聞標題"
   ]
  },
  {
   "cell_type": "code",
   "execution_count": null,
   "id": "84035801",
   "metadata": {
    "scrolled": false
   },
   "outputs": [],
   "source": [
    "url = \"\" //放入網頁連結URL\n",
    "headers = {\"User-Agent\":\"\"} //填入自己的瀏覽器資訊\n",
    "\n",
    "request = req.Request(url, headers= headers)\n",
    "\n",
    "with req.urlopen(request) as response:\n",
    "    data = response.read().decode('utf-8')\n",
    "    \n",
    "soup = BeautifulSoup(data,'html.parser')\n",
    "\n",
    "titles = soup.find_all(\"\",\"\") //抓取元素\n",
    "//此部分請自行增加程式碼"
   ]
  },
  {
   "cell_type": "markdown",
   "id": "e5ff0f33",
   "metadata": {},
   "source": [
    "### 2.讓程式自動抓取Yahoo News的5篇新聞連結  "
   ]
  },
  {
   "cell_type": "code",
   "execution_count": null,
   "id": "757d7cd3",
   "metadata": {},
   "outputs": [],
   "source": [
    "url = \"\" //放入網頁連結URL\n",
    "headers = {\"User-Agent\":\"\"} //填入自己的瀏覽器資訊\n",
    "\n",
    "request = req.Request(url, headers= headers)\n",
    "\n",
    "with req.urlopen(request) as response:\n",
    "    data = response.read().decode('utf-8')\n",
    "    \n",
    "soup = BeautifulSoup(data,'html.parser')\n",
    "\n",
    "titles = soup.find(\"\",\"\") //抓取元素\n",
    "//此部分請自行增加程式碼"
   ]
  },
  {
   "cell_type": "markdown",
   "id": "6a7f46a7",
   "metadata": {},
   "source": [
    "### 3.抓取其他網站或論壇文章的標題與連結(下方網址為Dcard)"
   ]
  },
  {
   "cell_type": "code",
   "execution_count": null,
   "id": "6a79a8a9",
   "metadata": {},
   "outputs": [],
   "source": [
    "url = \"https://www.dcard.tw\"\n",
    "headers = {\"User-Agent\":\"\"}\n",
    "request = req.Request(url, headers= headers)\n",
    "\n",
    "with req.urlopen(request) as response:\n",
    "    data = response.read().decode('utf-8')\n",
    "    \n",
    "soup = BeautifulSoup(data,'html.parser')\n",
    "\n",
    "titles = soup.find_all(\"\",\"\")\n",
    "\n",
    "for title in titles:\n",
    "    print(title.text)\n",
    "    print(url + title.get('href'))\n",
    "    print()"
   ]
  }
 ],
 "metadata": {
  "kernelspec": {
   "display_name": "Python 3 (ipykernel)",
   "language": "python",
   "name": "python3"
  },
  "language_info": {
   "codemirror_mode": {
    "name": "ipython",
    "version": 3
   },
   "file_extension": ".py",
   "mimetype": "text/x-python",
   "name": "python",
   "nbconvert_exporter": "python",
   "pygments_lexer": "ipython3",
   "version": "3.9.7"
  }
 },
 "nbformat": 4,
 "nbformat_minor": 5
}
