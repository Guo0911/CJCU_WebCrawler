{
 "cells": [
  {
   "cell_type": "markdown",
   "id": "ee892f51",
   "metadata": {},
   "source": [
    "# 網路爬蟲實戰經驗分享03_解答"
   ]
  },
  {
   "cell_type": "code",
   "execution_count": null,
   "id": "604860aa",
   "metadata": {},
   "outputs": [],
   "source": [
    "from selenium import webdriver"
   ]
  },
  {
   "cell_type": "code",
   "execution_count": null,
   "id": "f81895d2",
   "metadata": {},
   "outputs": [],
   "source": [
    "options = webdriver.ChromeOptions() #瀏覽器設定\n",
    "options.add_experimental_option(\"excludeSwitches\", [\"enable-automation\"])\n",
    "options.add_experimental_option('useAutomationExtension', False)\n",
    "options.add_experimental_option(\"prefs\", {\"profile.password_manager_enabled\": False, \"credentials_enable_service\": False, 'profile.default_content_setting_values' :{'notifications' : 2}})\n",
    "options.add_experimental_option('excludeSwitches', ['enable-logging'])\n",
    "chrome = webdriver.Chrome(chrome_options = options)\n",
    "chrome.maximize_window() #最大化Chrome的畫面"
   ]
  },
  {
   "cell_type": "markdown",
   "id": "451d6bb0",
   "metadata": {},
   "source": [
    "# 練習題：  "
   ]
  },
  {
   "cell_type": "markdown",
   "id": "73d1d603",
   "metadata": {},
   "source": [
    "### 1.讓程式抓取Dcard首頁的文章標題與連結"
   ]
  },
  {
   "cell_type": "code",
   "execution_count": null,
   "id": "e4eda362",
   "metadata": {},
   "outputs": [],
   "source": [
    "url = \"https://www.dcard.tw/f\"\n",
    "chrome.get(url)\n",
    "\n",
    "data = chrome.find_elements_by_xpath(\"//a[@class='tgn9uw-3 bJQtxM']\")#請自行補上抓取的方式與元素定位\n",
    "\n",
    "#請自行新增輸出的程式碼\n",
    "for i in data:\n",
    "    print(i.text)\n",
    "    print(i.get_attribute('href'))"
   ]
  }
 ],
 "metadata": {
  "kernelspec": {
   "display_name": "Python 3 (ipykernel)",
   "language": "python",
   "name": "python3"
  },
  "language_info": {
   "codemirror_mode": {
    "name": "ipython",
    "version": 3
   },
   "file_extension": ".py",
   "mimetype": "text/x-python",
   "name": "python",
   "nbconvert_exporter": "python",
   "pygments_lexer": "ipython3",
   "version": "3.9.7"
  }
 },
 "nbformat": 4,
 "nbformat_minor": 5
}
