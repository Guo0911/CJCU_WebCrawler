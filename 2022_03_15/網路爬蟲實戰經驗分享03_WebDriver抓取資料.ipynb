{
 "cells": [
  {
   "cell_type": "markdown",
   "id": "ee892f51",
   "metadata": {},
   "source": [
    "# 網路爬蟲實戰經驗分享03_WebDriver抓取資料"
   ]
  },
  {
   "cell_type": "code",
   "execution_count": null,
   "id": "84f6dd91",
   "metadata": {},
   "outputs": [],
   "source": [
    "pip install selenium"
   ]
  },
  {
   "cell_type": "code",
   "execution_count": null,
   "id": "604860aa",
   "metadata": {},
   "outputs": [],
   "source": [
    "from selenium import webdriver"
   ]
  },
  {
   "cell_type": "code",
   "execution_count": null,
   "id": "f81895d2",
   "metadata": {},
   "outputs": [],
   "source": [
    "options = webdriver.ChromeOptions() #瀏覽器設定\n",
    "options.add_experimental_option(\"excludeSwitches\", [\"enable-automation\"])\n",
    "options.add_experimental_option('useAutomationExtension', False)\n",
    "options.add_experimental_option(\"prefs\", {\"profile.password_manager_enabled\": False, \"credentials_enable_service\": False, 'profile.default_content_setting_values' :{'notifications' : 2}})\n",
    "options.add_experimental_option('excludeSwitches', ['enable-logging'])\n",
    "chrome = webdriver.Chrome(chrome_options = options)\n",
    "chrome.maximize_window() #最大化Chrome的畫面"
   ]
  },
  {
   "cell_type": "markdown",
   "id": "147ad664",
   "metadata": {},
   "source": [
    "# 程式碼："
   ]
  },
  {
   "cell_type": "code",
   "execution_count": null,
   "id": "7c918784",
   "metadata": {},
   "outputs": [],
   "source": [
    "url = \"https://tw.news.yahoo.com/archive/\"\n",
    "chrome.get(url)\n",
    "\n",
    "data = chrome.find_elements_by_xpath(\"//a[@class='Fw(b) Fz(20px) Lh(23px) Fz(17px)--sm1024 Lh(19px)--sm1024 mega-item-header-link Td(n) C(#0078ff):h C(#000) LineClamp(2,46px) LineClamp(2,38px)--sm1024 not-isInStreamVideoEnabled']\")\n",
    "for i in data:\n",
    "    print(i.text)\n",
    "    print(i.get_attribute('href'))"
   ]
  },
  {
   "cell_type": "markdown",
   "id": "451d6bb0",
   "metadata": {},
   "source": [
    "# 練習題：  "
   ]
  },
  {
   "cell_type": "markdown",
   "id": "73d1d603",
   "metadata": {},
   "source": [
    "### 1.讓程式抓取Dcard首頁的文章標題與連結"
   ]
  },
  {
   "cell_type": "code",
   "execution_count": null,
   "id": "e4eda362",
   "metadata": {},
   "outputs": [],
   "source": [
    "url = \"https://www.dcard.tw/f\"\n",
    "chrome.get(url)\n",
    "\n",
    "data =  #請自行補上抓取的方式與元素定位\n",
    "\n",
    "#請自行新增輸出的程式碼"
   ]
  }
 ],
 "metadata": {
  "kernelspec": {
   "display_name": "Python 3 (ipykernel)",
   "language": "python",
   "name": "python3"
  },
  "language_info": {
   "codemirror_mode": {
    "name": "ipython",
    "version": 3
   },
   "file_extension": ".py",
   "mimetype": "text/x-python",
   "name": "python",
   "nbconvert_exporter": "python",
   "pygments_lexer": "ipython3",
   "version": "3.9.7"
  }
 },
 "nbformat": 4,
 "nbformat_minor": 5
}
