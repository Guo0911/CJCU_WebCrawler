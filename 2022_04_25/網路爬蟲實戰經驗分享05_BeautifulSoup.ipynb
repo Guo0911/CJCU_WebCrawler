{
 "cells": [
  {
   "cell_type": "markdown",
   "id": "ee892f51",
   "metadata": {},
   "source": [
    "# 網路爬蟲實戰經驗分享05_BeautifulSoup"
   ]
  },
  {
   "cell_type": "code",
   "execution_count": null,
   "id": "d2ed3820",
   "metadata": {},
   "outputs": [],
   "source": [
    "pip install bs4"
   ]
  },
  {
   "cell_type": "markdown",
   "id": "73d1d603",
   "metadata": {},
   "source": [
    "### 0.導入所需的函式庫"
   ]
  },
  {
   "cell_type": "code",
   "execution_count": null,
   "id": "d2ed3820",
   "metadata": {},
   "outputs": [],
   "source": [
    "import urllib.request as req\n",
    "from bs4 import BeautifulSoup"
   ]
  },
  {
   "cell_type": "markdown",
   "id": "73d1d603",
   "metadata": {},
   "source": [
    "### 1.讓程式抓取一篇Yahoo News標題"
   ]
  },
  {
   "cell_type": "code",
   "execution_count": null,
   "id": "84035801",
   "metadata": {
    "scrolled": false
   },
   "outputs": [],
   "source": [
    "url = \"https://tw.news.yahoo.com/archive/\" \n",
    "#放入網頁連結URL\n",
    "headers = {\"User-Agent\":\"Mozilla/5.0 (Windows NT 10.0; Win64; x64) AppleWebKit/537.36 (KHTML, like Gecko) Chrome/96.0.4664.110 Safari/537.36 Edg/96.0.1054.57\"}\n",
    "#設定使用者瀏覽器資訊\n",
    "\n",
    "request = req.Request(url, headers= headers)\n",
    "\n",
    "with req.urlopen(request) as response:\n",
    "    data = response.read().decode('utf-8')\n",
    "    \n",
    "soup = BeautifulSoup(data,'html.parser')\n",
    "\n",
    "title = soup.find(\"a\",\"Fw(b) Fz(20px) Lh(23px) Fz(17px)--sm1024 Lh(19px)--sm1024 mega-item-header-link Td(n) C(#0078ff):h C(#000) LineClamp(2,46px) LineClamp(2,38px)--sm1024 not-isInStreamVideoEnabled\")\n",
    "#搜尋第一個符合的元素\n",
    "\n",
    "print(title.text)"
   ]
  },
  {
   "cell_type": "markdown",
   "id": "73d1d603",
   "metadata": {},
   "source": [
    "### 2.讓程式抓取所有Yahoo News標題"
   ]
  },
  {
   "cell_type": "code",
   "execution_count": null,
   "id": "84035801",
   "metadata": {
    "scrolled": false
   },
   "outputs": [],
   "source": [
    "url = \"https://tw.news.yahoo.com/archive/\" \n",
    "#放入網頁連結URL\n",
    "headers = {\"User-Agent\":\"Mozilla/5.0 (Windows NT 10.0; Win64; x64) AppleWebKit/537.36 (KHTML, like Gecko) Chrome/96.0.4664.110 Safari/537.36 Edg/96.0.1054.57\"} #填入自己的瀏覽器資訊\n",
    "#設定使用者瀏覽器資訊\n",
    "\n",
    "request = req.Request(url, headers= headers)\n",
    "\n",
    "with req.urlopen(request) as response:\n",
    "    data = response.read().decode('utf-8')\n",
    "    \n",
    "soup = BeautifulSoup(data,'html.parser')\n",
    "\n",
    "titles = soup.find_all(\"a\",\"Fw(b) Fz(20px) Lh(23px) Fz(17px)--sm1024 Lh(19px)--sm1024 mega-item-header-link Td(n) C(#0078ff):h C(#000) LineClamp(2,46px) LineClamp(2,38px)--sm1024 not-isInStreamVideoEnabled\") #抓取元素\n",
    "#搜尋所有符合的元素\n",
    "\n",
    "for title in titles:\n",
    "#因find_all會將titles變為Linked List，所以使用for迴圈對每個搜尋到的元素做處理\n",
    "    print(title.text)"
   ]
  },
  {
   "cell_type": "markdown",
   "id": "73d1d603",
   "metadata": {},
   "source": [
    "### 3.讓程式抓取一篇Yahoo News連結"
   ]
  },
  {
   "cell_type": "code",
   "execution_count": null,
   "id": "84035801",
   "metadata": {
    "scrolled": false
   },
   "outputs": [],
   "source": [
    "url = \"https://tw.news.yahoo.com/archive/\" \n",
    "#放入網頁連結URL\n",
    "headers = {\"User-Agent\":\"Mozilla/5.0 (Windows NT 10.0; Win64; x64) AppleWebKit/537.36 (KHTML, like Gecko) Chrome/96.0.4664.110 Safari/537.36 Edg/96.0.1054.57\"} #填入自己的瀏覽器資訊\n",
    "#設定使用者瀏覽器資訊\n",
    "\n",
    "request = req.Request(url, headers= headers)\n",
    "\n",
    "with req.urlopen(request) as response:\n",
    "    data = response.read().decode('utf-8')\n",
    "    \n",
    "soup = BeautifulSoup(data,'html.parser')\n",
    "\n",
    "title = soup.find(\"a\",\"Fw(b) Fz(20px) Lh(23px) Fz(17px)--sm1024 Lh(19px)--sm1024 mega-item-header-link Td(n) C(#0078ff):h C(#000) LineClamp(2,46px) LineClamp(2,38px)--sm1024 not-isInStreamVideoEnabled\")\n",
    "#搜尋第一個符合的元素\n",
    "\n",
    "print(title.text, \"\\n\", url + title.get(\"href\"))\n",
    "#使用get(\"href\")取出元素a中href的連結"
   ]
  },
  {
   "cell_type": "markdown",
   "id": "73d1d603",
   "metadata": {},
   "source": [
    "### 4.讓程式抓取網站圖片連結"
   ]
  },
  {
   "cell_type": "code",
   "execution_count": null,
   "id": "7c918784",
   "metadata": {},
   "outputs": [],
   "source": [
    "search = input(\"輸入你要搜尋的物品: \")\n",
    "search = search.replace(\" \",\"-\")\n",
    "#處理搜尋物品的名稱\n",
    "\n",
    "url = \"https://stocksnap.io/search/\" + search\n",
    "#奢定網頁連結URL\n",
    "headers = {\"User-Agent\":\"Mozilla/5.0 (Windows NT 10.0; Win64; x64) AppleWebKit/537.36 (KHTML, like Gecko) Chrome/96.0.4664.110 Safari/537.36 Edg/96.0.1054.57\"}\n",
    "#設定使用者瀏覽器資訊\n",
    "\n",
    "request = req.Request(url, headers= headers)\n",
    "\n",
    "with req.urlopen(request) as response:\n",
    "    data = response.read().decode('utf-8')\n",
    "    \n",
    "soup = BeautifulSoup(data,'html.parser')\n",
    "\n",
    "image = soup.find_all(\"img\", height=\"280\", limit=10)\n",
    "#搜尋所有符合的元素，但因為設置limit為10，所以只會搜尋到第十個結束就停止搜尋\n",
    "\n",
    "for img in image:\n",
    "    \n",
    "    img = img.get(\"src\")\n",
    "    #使用get(\"src\")獲得元素img中src的圖片連結\n",
    "\n",
    "    if \"http\" not in img: #略過網站設置的廣告\n",
    "        continue\n",
    "\n",
    "    print(img)"
   ]
  }
 ],
 "metadata": {
  "kernelspec": {
   "display_name": "Python 3 (ipykernel)",
   "language": "python",
   "name": "python3"
  },
  "language_info": {
   "codemirror_mode": {
    "name": "ipython",
    "version": 3
   },
   "file_extension": ".py",
   "mimetype": "text/x-python",
   "name": "python",
   "nbconvert_exporter": "python",
   "pygments_lexer": "ipython3",
   "version": "3.9.7"
  }
 },
 "nbformat": 4,
 "nbformat_minor": 5
}
